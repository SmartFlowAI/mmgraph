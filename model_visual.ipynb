{
 "cells": [
  {
   "cell_type": "code",
   "execution_count": 2,
   "metadata": {},
   "outputs": [
    {
     "data": {
      "text/plain": [
       "'pdf'"
      ]
     },
     "execution_count": 2,
     "metadata": {},
     "output_type": "execute_result"
    }
   ],
   "source": [
    "# Copyright (c) OpenMMLab. All rights reserved.\n",
    "import argparse\n",
    "\n",
    "import torch\n",
    "from mmengine import Config\n",
    "from functools import partial\n",
    "\n",
    "# if you want \n",
    "from mmrotate.registry import MODELS\n",
    "from mmrotate.utils import register_all_modules\n",
    "register_all_modules()\n",
    "\n",
    "# from mmdet.registry import MODELS\n",
    "# from mmdet.utils import register_all_modules\n",
    "# register_all_modules()\n",
    "import graphviz\n",
    "\n",
    "\n",
    "from mmengine.runner import Runner\n",
    "from torchview import draw_graph\n",
    "from torchinfo import summary\n",
    "\n",
    "graphviz.set_default_format('svg')\n"
   ]
  },
  {
   "cell_type": "code",
   "execution_count": 3,
   "metadata": {},
   "outputs": [
    {
     "name": "stdout",
     "output_type": "stream",
     "text": [
      "01/11 13:20:20 - mmengine - WARNING - The \"dataset\" registry in mmrotate did not set import location. Fallback to call `mmrotate.utils.register_all_modules` instead.\n",
      "01/11 13:20:20 - mmengine - WARNING - The \"transform\" registry in mmrotate did not set import location. Fallback to call `mmrotate.utils.register_all_modules` instead.\n",
      "01/11 13:20:20 - mmengine - WARNING - The \"transform\" registry in mmdet did not set import location. Fallback to call `mmdet.utils.register_all_modules` instead.\n",
      "01/11 13:20:20 - mmengine - WARNING - The \"data sampler\" registry in mmrotate did not set import location. Fallback to call `mmrotate.utils.register_all_modules` instead.\n",
      "0 {'inputs': [tensor([[[0, 0, 0,  ..., 0, 0, 0],\n",
      "         [0, 0, 0,  ..., 0, 0, 0],\n",
      "         [0, 0, 0,  ..., 0, 0, 0],\n",
      "         ...,\n",
      "         [0, 0, 0,  ..., 0, 0, 0],\n",
      "         [0, 0, 0,  ..., 0, 0, 0],\n",
      "         [0, 0, 0,  ..., 0, 0, 0]],\n",
      "\n",
      "        [[0, 0, 0,  ..., 0, 0, 0],\n",
      "         [0, 0, 0,  ..., 0, 0, 0],\n",
      "         [0, 0, 0,  ..., 0, 0, 0],\n",
      "         ...,\n",
      "         [0, 0, 0,  ..., 0, 0, 0],\n",
      "         [0, 0, 0,  ..., 0, 0, 0],\n",
      "         [0, 0, 0,  ..., 0, 0, 0]],\n",
      "\n",
      "        [[0, 0, 0,  ..., 0, 0, 0],\n",
      "         [0, 0, 0,  ..., 0, 0, 0],\n",
      "         [0, 0, 0,  ..., 0, 0, 0],\n",
      "         ...,\n",
      "         [0, 0, 0,  ..., 0, 0, 0],\n",
      "         [0, 0, 0,  ..., 0, 0, 0],\n",
      "         [0, 0, 0,  ..., 0, 0, 0]]], dtype=torch.uint8)], 'data_samples': [<DetDataSample(\n",
      "\n",
      "    META INFORMATION\n",
      "    img_path: 'data/icdar2019_cTDaRA_modern_qbox/test_rotate_img/cTDaR_t10163.png'\n",
      "    img_id: 'cTDaR_t10163'\n",
      "    img_shape: (1024, 771)\n",
      "    ori_shape: (1195, 900)\n",
      "    scale_factor: (0.8566666666666667, 0.8569037656903765)\n",
      "\n",
      "    DATA FIELDS\n",
      "    gt_instances: <InstanceData(\n",
      "        \n",
      "            META INFORMATION\n",
      "        \n",
      "            DATA FIELDS\n",
      "            labels: tensor([0, 0])\n",
      "            bboxes: RotatedBoxes(\n",
      "                tensor([[4.6240e+02, 4.2104e+02, 5.7300e+02, 1.3700e+02, 9.8660e-02],\n",
      "                        [4.0645e+02, 9.8628e+02, 7.4700e+02, 5.9000e+01, 9.8660e-02]]))\n",
      "        ) at 0x7fd07e943100>\n",
      "    ignored_instances: <InstanceData(\n",
      "        \n",
      "            META INFORMATION\n",
      "        \n",
      "            DATA FIELDS\n",
      "            labels: tensor([], dtype=torch.int64)\n",
      "            bboxes: RotatedBoxes(\n",
      "                tensor([], size=(0, 5)))\n",
      "        ) at 0x7fd07e943310>\n",
      ") at 0x7fd07e943160>]}\n",
      "01/11 13:20:20 - mmengine - WARNING - The \"model\" registry in mmrotate did not set import location. Fallback to call `mmrotate.utils.register_all_modules` instead.\n",
      "01/11 13:20:20 - mmengine - WARNING - The \"model\" registry in mmdet did not set import location. Fallback to call `mmdet.utils.register_all_modules` instead.\n",
      "01/11 13:20:20 - mmengine - WARNING - The \"task util\" registry in mmrotate did not set import location. Fallback to call `mmrotate.utils.register_all_modules` instead.\n",
      "01/11 13:20:20 - mmengine - WARNING - The \"task util\" registry in mmdet did not set import location. Fallback to call `mmdet.utils.register_all_modules` instead.\n"
     ]
    },
    {
     "data": {
      "text/plain": [
       "'../model_visual/mmrotate/configs/rotated_retinanet/rotated-retinanet-rbox-le90_r50_fpn_1x_dota.py.svg'"
      ]
     },
     "execution_count": 3,
     "metadata": {},
     "output_type": "execute_result"
    }
   ],
   "source": [
    "\n",
    "config = '../mmrotate/configs/rotated_retinanet/rotated-retinanet-rbox-le90_r50_fpn_1x_dota.py'\n",
    "graph_path = config.replace('mmrotate','model_visual/mmrotate')\n",
    "\n",
    "cfg = Config.fromfile(config)\n",
    "\n",
    "dataloader = Runner.build_dataloader(cfg.val_dataloader)\n",
    "\n",
    "for idx, data_batch in enumerate(dataloader):\n",
    "    print(idx, data_batch)\n",
    "    break\n",
    "\n",
    "model = MODELS.build(cfg.model)\n",
    "_forward = model.forward\n",
    "\n",
    "data = model.data_preprocessor(data_batch)\n",
    "model.forward = partial(_forward, data_samples=data['data_samples'])\n",
    "\n",
    "\n",
    "summary(model, data['inputs'].shape, depth=3)\n",
    "# summary(model, (1, 3, 1024, 1024), depth=3)\n",
    "model_graph = draw_graph(model, input_size=data['inputs'].shape)\n",
    "model_graph.visual_graph\n",
    "\n",
    "model_graph.visual_graph.render(filename=graph_path, view=False, cleanup=True)"
   ]
  }
 ],
 "metadata": {
  "kernelspec": {
   "display_name": "mmroate",
   "language": "python",
   "name": "python3"
  },
  "language_info": {
   "codemirror_mode": {
    "name": "ipython",
    "version": 3
   },
   "file_extension": ".py",
   "mimetype": "text/x-python",
   "name": "python",
   "nbconvert_exporter": "python",
   "pygments_lexer": "ipython3",
   "version": "3.8.15"
  },
  "orig_nbformat": 4,
  "vscode": {
   "interpreter": {
    "hash": "ee37251af7087ac60bc1214ce22d8f37d8d56e9e600386add225441fca80f03b"
   }
  }
 },
 "nbformat": 4,
 "nbformat_minor": 2
}
